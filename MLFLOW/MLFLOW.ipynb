{
 "cells": [
  {
   "cell_type": "code",
   "execution_count": 6,
   "id": "f49f6615",
   "metadata": {},
   "outputs": [],
   "source": [
    "from pathlib import Path\n",
    "import pandas as pd\n",
    "import sys\n",
    "sys.path.append('..')\n",
    "import warnings\n",
    "warnings.filterwarnings('ignore')"
   ]
  },
  {
   "cell_type": "code",
   "execution_count": 7,
   "id": "f5d03ac7",
   "metadata": {},
   "outputs": [],
   "source": [
    "from datetime import datetime\n",
    "import mlflow\n",
    "import pandas as pd\n",
    "from sklearn.model_selection import train_test_split\n",
    "from sklearn.metrics import mean_squared_error\n",
    "pd.set_option(\"display.max_columns\", None)"
   ]
  },
  {
   "cell_type": "code",
   "execution_count": 11,
   "id": "1dc13223",
   "metadata": {},
   "outputs": [],
   "source": [
    "DATA_DIR = Path(r'../data/')\n",
    "MODEL_DIR=Path(r'../models/')\n",
    "df_master= pd.read_csv(DATA_DIR/\"train.csv\",index_col='ID')"
   ]
  },
  {
   "cell_type": "code",
   "execution_count": 12,
   "id": "77b1dd0e",
   "metadata": {},
   "outputs": [],
   "source": [
    "from joblib import dump,load\n",
    "from sklearn.ensemble import RandomForestClassifier\n",
    "from src.app.preprocess import preprocess\n",
    "from sklearn.metrics import classification_report\n",
    "from sklearn.metrics import accuracy_score\n",
    "from pathlib import Path\n",
    "DATA_DIR = Path(r'../data/')\n",
    "PREDICTION_DIR = Path(r'../data/Predictions/')\n",
    "MODEL_DIR=Path(r'../models/')\n",
    "df_master= pd.read_csv(DATA_DIR/\"train.csv\",index_col='ID')"
   ]
  },
  {
   "cell_type": "code",
   "execution_count": 24,
   "id": "97ab687b",
   "metadata": {},
   "outputs": [],
   "source": [
    "def build_model(data: pd.DataFrame):\n",
    "    target=data['y'].apply(lambda x : 1 if x == 'yes' else 0)\n",
    "    train = data.drop(['y'], axis=1)\n",
    "    processedtrain= preprocess(train, MODEL_DIR)\n",
    "    x_train , x_test , y_train , y_test = train_test_split(processedtrain,target,test_size=0.2)\n",
    "    rfc = RandomForestClassifier(n_estimators=10000, random_state=0, n_jobs=-1)\n",
    "    rfc.fit(x_train, y_train)\n",
    "    dump(rfc,MODEL_DIR/'RFC.joblib')\n",
    "    predict = rfc.predict(x_test)\n",
    "    print(f\"The accuracy score is : {accuracy_score(y_test, predict) * 100}%\")\n",
    "    print (classification_report(y_test,predict))\n",
    "    return   "
   ]
  },
  {
   "cell_type": "code",
   "execution_count": 25,
   "id": "eba037b8",
   "metadata": {},
   "outputs": [
    {
     "name": "stdout",
     "output_type": "stream",
     "text": [
      "The accuracy score is : 77.03962703962704%\n",
      "              precision    recall  f1-score   support\n",
      "\n",
      "           0       0.79      0.90      0.84      1759\n",
      "           1       0.70      0.48      0.57       815\n",
      "\n",
      "    accuracy                           0.77      2574\n",
      "   macro avg       0.74      0.69      0.71      2574\n",
      "weighted avg       0.76      0.77      0.76      2574\n",
      "\n"
     ]
    }
   ],
   "source": [
    "build_model(df_master)"
   ]
  },
  {
   "cell_type": "code",
   "execution_count": 26,
   "id": "3340625b",
   "metadata": {},
   "outputs": [],
   "source": [
    "def inference(data: pd.DataFrame,max_depth):\n",
    "    target=data['y'].apply(lambda x : 1 if x == 'yes' else 0)\n",
    "    train = data.drop(['y'], axis=1)\n",
    "    processedtrain= preprocess(train, MODEL_DIR)\n",
    "    x_train , x_test , y_train , y_test = train_test_split(processedtrain,target,test_size=0.2)\n",
    "    \n",
    "    rfc = RandomForestClassifier(n_estimators=10000, random_state=0, n_jobs=-1,max_depth=max_depth)\n",
    "    rfc.fit(x_train, y_train)\n",
    "    y_pred = rfc.predict(x_test)\n",
    "    mse = mean_squared_error(y_test, y_pred)\n",
    "    rmse = mean_squared_error(y_test, y_pred, squared=False)\n",
    "    print(f\"Test mse = {mse}, Test RMSE = {rmse}, Random forest max depth = {max_depth}\")\n",
    "    return rfc, mse, rmse"
   ]
  },
  {
   "cell_type": "code",
   "execution_count": 27,
   "id": "c58015bd",
   "metadata": {},
   "outputs": [
    {
     "name": "stdout",
     "output_type": "stream",
     "text": [
      "Test mse = 0.2591297591297591, Test RMSE = 0.5090478947307012, Random forest max depth = 2\n"
     ]
    }
   ],
   "source": [
    "_=inference(df_master,2)"
   ]
  },
  {
   "cell_type": "code",
   "execution_count": 28,
   "id": "c413920c",
   "metadata": {},
   "outputs": [
    {
     "name": "stdout",
     "output_type": "stream",
     "text": [
      "Test mse = 0.26573426573426573, Test RMSE = 0.5154941956358633, Random forest max depth = 2\n",
      "Test mse = 0.2463092463092463, Test RMSE = 0.4962955231605926, Random forest max depth = 4\n",
      "Test mse = 0.2498057498057498, Test RMSE = 0.4998057120579454, Random forest max depth = 6\n"
     ]
    }
   ],
   "source": [
    "for max_depth in range(2, 7, 2):\n",
    "    _ = inference(df_master, max_depth=max_depth)"
   ]
  },
  {
   "cell_type": "markdown",
   "id": "889ea49d",
   "metadata": {},
   "source": [
    "# MLFLOW"
   ]
  },
  {
   "cell_type": "code",
   "execution_count": 29,
   "id": "1f7914c5",
   "metadata": {},
   "outputs": [
    {
     "name": "stderr",
     "output_type": "stream",
     "text": [
      "2022/07/31 21:58:25 INFO mlflow.tracking.fluent: Experiment with name 'prediction_with_random_forest' does not exist. Creating a new experiment.\n"
     ]
    },
    {
     "data": {
      "text/plain": [
       "<Experiment: artifact_location='file:///D:/Repositories/AI-project-methodology/MLFLOW/mlruns/1', experiment_id='1', lifecycle_stage='active', name='prediction_with_random_forest', tags={}>"
      ]
     },
     "execution_count": 29,
     "metadata": {},
     "output_type": "execute_result"
    }
   ],
   "source": [
    "randomforest_exp = \"prediction_with_random_forest\"\n",
    "mlflow.set_experiment(randomforest_exp)"
   ]
  },
  {
   "cell_type": "code",
   "execution_count": 32,
   "id": "f37fc8cd",
   "metadata": {},
   "outputs": [],
   "source": [
    "def train_model(data: pd.DataFrame,max_depth):\n",
    "    with mlflow.start_run():\n",
    "        \n",
    "        \n",
    "        target=data['y'].apply(lambda x : 1 if x == 'yes' else 0)\n",
    "        train = data.drop(['y'], axis=1)\n",
    "        processedtrain= preprocess(train, MODEL_DIR)\n",
    "        x_train , x_test , y_train , y_test = train_test_split(processedtrain,target,test_size=0.2)\n",
    "    \n",
    "        rfc = RandomForestClassifier(n_estimators=10000, random_state=0, n_jobs=-1,max_depth=max_depth)\n",
    "        rfc.fit(x_train, y_train)\n",
    "        mlflow.log_param(\"max_depth\", max_depth)\n",
    "        mlflow.sklearn.log_model(rfc, \"model\")\n",
    "        y_pred = rfc.predict(x_test)\n",
    "        mse = mean_squared_error(y_test, y_pred)\n",
    "        rmse = mean_squared_error(y_test, y_pred, squared=False)\n",
    "        mlflow.log_metrics({\"testing_mse\": mse, \"testing_rmse\": rmse})\n",
    "        print(f\"Test mse = {mse}, Test RMSE = {rmse}, Random forest max depth = {max_depth}\")"
   ]
  },
  {
   "cell_type": "code",
   "execution_count": 33,
   "id": "aca8274c",
   "metadata": {},
   "outputs": [
    {
     "name": "stdout",
     "output_type": "stream",
     "text": [
      "Test mse = 0.24708624708624707, Test RMSE = 0.49707770729157336, Random forest max depth = 2\n",
      "Test mse = 0.2556332556332556, Test RMSE = 0.5056018746338423, Random forest max depth = 4\n",
      "Test mse = 0.24048174048174048, Test RMSE = 0.4903893763956765, Random forest max depth = 6\n"
     ]
    }
   ],
   "source": [
    "for max_depth in range(2, 7, 2):\n",
    "    _ = train_model(df_master, max_depth=max_depth)"
   ]
  },
  {
   "cell_type": "code",
   "execution_count": null,
   "id": "d29918fa",
   "metadata": {},
   "outputs": [],
   "source": [
    "mlflow.get_experiment_by_name(randomforest_exp)"
   ]
  },
  {
   "cell_type": "code",
   "execution_count": 34,
   "id": "97f3c74b",
   "metadata": {},
   "outputs": [
    {
     "data": {
      "text/plain": [
       "'1'"
      ]
     },
     "execution_count": 34,
     "metadata": {},
     "output_type": "execute_result"
    }
   ],
   "source": [
    "experiment_id = mlflow.get_experiment_by_name(randomforest_exp).experiment_id\n",
    "experiment_id\n"
   ]
  },
  {
   "cell_type": "code",
   "execution_count": 35,
   "id": "5cbcc663",
   "metadata": {},
   "outputs": [
    {
     "data": {
      "text/html": [
       "<div>\n",
       "<style scoped>\n",
       "    .dataframe tbody tr th:only-of-type {\n",
       "        vertical-align: middle;\n",
       "    }\n",
       "\n",
       "    .dataframe tbody tr th {\n",
       "        vertical-align: top;\n",
       "    }\n",
       "\n",
       "    .dataframe thead th {\n",
       "        text-align: right;\n",
       "    }\n",
       "</style>\n",
       "<table border=\"1\" class=\"dataframe\">\n",
       "  <thead>\n",
       "    <tr style=\"text-align: right;\">\n",
       "      <th></th>\n",
       "      <th>run_id</th>\n",
       "      <th>experiment_id</th>\n",
       "      <th>status</th>\n",
       "      <th>artifact_uri</th>\n",
       "      <th>start_time</th>\n",
       "      <th>end_time</th>\n",
       "      <th>metrics.testing_rmse</th>\n",
       "      <th>metrics.testing_mse</th>\n",
       "      <th>params.max_depth</th>\n",
       "      <th>tags.mlflow.source.name</th>\n",
       "      <th>tags.mlflow.source.git.commit</th>\n",
       "      <th>tags.mlflow.user</th>\n",
       "      <th>tags.mlflow.log-model.history</th>\n",
       "      <th>tags.mlflow.source.type</th>\n",
       "    </tr>\n",
       "  </thead>\n",
       "  <tbody>\n",
       "    <tr>\n",
       "      <th>0</th>\n",
       "      <td>6ca9338e6dbb448083a4d0d7e84563b7</td>\n",
       "      <td>1</td>\n",
       "      <td>FINISHED</td>\n",
       "      <td>file:///D:/Repositories/AI-project-methodology...</td>\n",
       "      <td>2022-07-31 20:00:11.925000+00:00</td>\n",
       "      <td>2022-07-31 20:00:31.946000+00:00</td>\n",
       "      <td>0.490389</td>\n",
       "      <td>0.240482</td>\n",
       "      <td>6</td>\n",
       "      <td>D:\\Repositories\\AI-project-methodology\\env\\lib...</td>\n",
       "      <td>212e29448b4448ffe71d9305b4a81e47cbbfe23a</td>\n",
       "      <td>RAVITEJA</td>\n",
       "      <td>[{\"run_id\": \"6ca9338e6dbb448083a4d0d7e84563b7\"...</td>\n",
       "      <td>LOCAL</td>\n",
       "    </tr>\n",
       "    <tr>\n",
       "      <th>1</th>\n",
       "      <td>ebbd4accf565429d8b0671b51155c50a</td>\n",
       "      <td>1</td>\n",
       "      <td>FINISHED</td>\n",
       "      <td>file:///D:/Repositories/AI-project-methodology...</td>\n",
       "      <td>2022-07-31 19:59:52.517000+00:00</td>\n",
       "      <td>2022-07-31 20:00:11.907000+00:00</td>\n",
       "      <td>0.505602</td>\n",
       "      <td>0.255633</td>\n",
       "      <td>4</td>\n",
       "      <td>D:\\Repositories\\AI-project-methodology\\env\\lib...</td>\n",
       "      <td>212e29448b4448ffe71d9305b4a81e47cbbfe23a</td>\n",
       "      <td>RAVITEJA</td>\n",
       "      <td>[{\"run_id\": \"ebbd4accf565429d8b0671b51155c50a\"...</td>\n",
       "      <td>LOCAL</td>\n",
       "    </tr>\n",
       "    <tr>\n",
       "      <th>2</th>\n",
       "      <td>0fea235f0654471492ce809ad19d6549</td>\n",
       "      <td>1</td>\n",
       "      <td>FINISHED</td>\n",
       "      <td>file:///D:/Repositories/AI-project-methodology...</td>\n",
       "      <td>2022-07-31 19:59:33.780000+00:00</td>\n",
       "      <td>2022-07-31 19:59:52.483000+00:00</td>\n",
       "      <td>0.497078</td>\n",
       "      <td>0.247086</td>\n",
       "      <td>2</td>\n",
       "      <td>D:\\Repositories\\AI-project-methodology\\env\\lib...</td>\n",
       "      <td>212e29448b4448ffe71d9305b4a81e47cbbfe23a</td>\n",
       "      <td>RAVITEJA</td>\n",
       "      <td>[{\"run_id\": \"0fea235f0654471492ce809ad19d6549\"...</td>\n",
       "      <td>LOCAL</td>\n",
       "    </tr>\n",
       "    <tr>\n",
       "      <th>3</th>\n",
       "      <td>8c848b2657f94f938a1b4b131f3a3055</td>\n",
       "      <td>1</td>\n",
       "      <td>FAILED</td>\n",
       "      <td>file:///D:/Repositories/AI-project-methodology...</td>\n",
       "      <td>2022-07-31 19:59:07.051000+00:00</td>\n",
       "      <td>2022-07-31 19:59:07.074000+00:00</td>\n",
       "      <td>NaN</td>\n",
       "      <td>NaN</td>\n",
       "      <td>None</td>\n",
       "      <td>D:\\Repositories\\AI-project-methodology\\env\\lib...</td>\n",
       "      <td>212e29448b4448ffe71d9305b4a81e47cbbfe23a</td>\n",
       "      <td>RAVITEJA</td>\n",
       "      <td>None</td>\n",
       "      <td>LOCAL</td>\n",
       "    </tr>\n",
       "  </tbody>\n",
       "</table>\n",
       "</div>"
      ],
      "text/plain": [
       "                             run_id experiment_id    status  \\\n",
       "0  6ca9338e6dbb448083a4d0d7e84563b7             1  FINISHED   \n",
       "1  ebbd4accf565429d8b0671b51155c50a             1  FINISHED   \n",
       "2  0fea235f0654471492ce809ad19d6549             1  FINISHED   \n",
       "3  8c848b2657f94f938a1b4b131f3a3055             1    FAILED   \n",
       "\n",
       "                                        artifact_uri  \\\n",
       "0  file:///D:/Repositories/AI-project-methodology...   \n",
       "1  file:///D:/Repositories/AI-project-methodology...   \n",
       "2  file:///D:/Repositories/AI-project-methodology...   \n",
       "3  file:///D:/Repositories/AI-project-methodology...   \n",
       "\n",
       "                        start_time                         end_time  \\\n",
       "0 2022-07-31 20:00:11.925000+00:00 2022-07-31 20:00:31.946000+00:00   \n",
       "1 2022-07-31 19:59:52.517000+00:00 2022-07-31 20:00:11.907000+00:00   \n",
       "2 2022-07-31 19:59:33.780000+00:00 2022-07-31 19:59:52.483000+00:00   \n",
       "3 2022-07-31 19:59:07.051000+00:00 2022-07-31 19:59:07.074000+00:00   \n",
       "\n",
       "   metrics.testing_rmse  metrics.testing_mse params.max_depth  \\\n",
       "0              0.490389             0.240482                6   \n",
       "1              0.505602             0.255633                4   \n",
       "2              0.497078             0.247086                2   \n",
       "3                   NaN                  NaN             None   \n",
       "\n",
       "                             tags.mlflow.source.name  \\\n",
       "0  D:\\Repositories\\AI-project-methodology\\env\\lib...   \n",
       "1  D:\\Repositories\\AI-project-methodology\\env\\lib...   \n",
       "2  D:\\Repositories\\AI-project-methodology\\env\\lib...   \n",
       "3  D:\\Repositories\\AI-project-methodology\\env\\lib...   \n",
       "\n",
       "              tags.mlflow.source.git.commit tags.mlflow.user  \\\n",
       "0  212e29448b4448ffe71d9305b4a81e47cbbfe23a         RAVITEJA   \n",
       "1  212e29448b4448ffe71d9305b4a81e47cbbfe23a         RAVITEJA   \n",
       "2  212e29448b4448ffe71d9305b4a81e47cbbfe23a         RAVITEJA   \n",
       "3  212e29448b4448ffe71d9305b4a81e47cbbfe23a         RAVITEJA   \n",
       "\n",
       "                       tags.mlflow.log-model.history tags.mlflow.source.type  \n",
       "0  [{\"run_id\": \"6ca9338e6dbb448083a4d0d7e84563b7\"...                   LOCAL  \n",
       "1  [{\"run_id\": \"ebbd4accf565429d8b0671b51155c50a\"...                   LOCAL  \n",
       "2  [{\"run_id\": \"0fea235f0654471492ce809ad19d6549\"...                   LOCAL  \n",
       "3                                               None                   LOCAL  "
      ]
     },
     "execution_count": 35,
     "metadata": {},
     "output_type": "execute_result"
    }
   ],
   "source": [
    "mlflow.search_runs(experiment_id)"
   ]
  },
  {
   "cell_type": "code",
   "execution_count": 36,
   "id": "d5206e3e",
   "metadata": {},
   "outputs": [
    {
     "data": {
      "text/html": [
       "<div>\n",
       "<style scoped>\n",
       "    .dataframe tbody tr th:only-of-type {\n",
       "        vertical-align: middle;\n",
       "    }\n",
       "\n",
       "    .dataframe tbody tr th {\n",
       "        vertical-align: top;\n",
       "    }\n",
       "\n",
       "    .dataframe thead th {\n",
       "        text-align: right;\n",
       "    }\n",
       "</style>\n",
       "<table border=\"1\" class=\"dataframe\">\n",
       "  <thead>\n",
       "    <tr style=\"text-align: right;\">\n",
       "      <th></th>\n",
       "      <th>run_id</th>\n",
       "      <th>experiment_id</th>\n",
       "      <th>status</th>\n",
       "      <th>artifact_uri</th>\n",
       "      <th>start_time</th>\n",
       "      <th>end_time</th>\n",
       "      <th>metrics.testing_rmse</th>\n",
       "      <th>metrics.testing_mse</th>\n",
       "      <th>params.max_depth</th>\n",
       "      <th>tags.mlflow.source.name</th>\n",
       "      <th>tags.mlflow.source.git.commit</th>\n",
       "      <th>tags.mlflow.user</th>\n",
       "      <th>tags.mlflow.log-model.history</th>\n",
       "      <th>tags.mlflow.source.type</th>\n",
       "    </tr>\n",
       "  </thead>\n",
       "  <tbody>\n",
       "    <tr>\n",
       "      <th>0</th>\n",
       "      <td>ebbd4accf565429d8b0671b51155c50a</td>\n",
       "      <td>1</td>\n",
       "      <td>FINISHED</td>\n",
       "      <td>file:///D:/Repositories/AI-project-methodology...</td>\n",
       "      <td>2022-07-31 19:59:52.517000+00:00</td>\n",
       "      <td>2022-07-31 20:00:11.907000+00:00</td>\n",
       "      <td>0.505602</td>\n",
       "      <td>0.255633</td>\n",
       "      <td>4</td>\n",
       "      <td>D:\\Repositories\\AI-project-methodology\\env\\lib...</td>\n",
       "      <td>212e29448b4448ffe71d9305b4a81e47cbbfe23a</td>\n",
       "      <td>RAVITEJA</td>\n",
       "      <td>[{\"run_id\": \"ebbd4accf565429d8b0671b51155c50a\"...</td>\n",
       "      <td>LOCAL</td>\n",
       "    </tr>\n",
       "  </tbody>\n",
       "</table>\n",
       "</div>"
      ],
      "text/plain": [
       "                             run_id experiment_id    status  \\\n",
       "0  ebbd4accf565429d8b0671b51155c50a             1  FINISHED   \n",
       "\n",
       "                                        artifact_uri  \\\n",
       "0  file:///D:/Repositories/AI-project-methodology...   \n",
       "\n",
       "                        start_time                         end_time  \\\n",
       "0 2022-07-31 19:59:52.517000+00:00 2022-07-31 20:00:11.907000+00:00   \n",
       "\n",
       "   metrics.testing_rmse  metrics.testing_mse params.max_depth  \\\n",
       "0              0.505602             0.255633                4   \n",
       "\n",
       "                             tags.mlflow.source.name  \\\n",
       "0  D:\\Repositories\\AI-project-methodology\\env\\lib...   \n",
       "\n",
       "              tags.mlflow.source.git.commit tags.mlflow.user  \\\n",
       "0  212e29448b4448ffe71d9305b4a81e47cbbfe23a         RAVITEJA   \n",
       "\n",
       "                       tags.mlflow.log-model.history tags.mlflow.source.type  \n",
       "0  [{\"run_id\": \"ebbd4accf565429d8b0671b51155c50a\"...                   LOCAL  "
      ]
     },
     "execution_count": 36,
     "metadata": {},
     "output_type": "execute_result"
    }
   ],
   "source": [
    "max_depth = 4\n",
    "mlflow.search_runs(\n",
    "    experiment_id,\n",
    "    filter_string=f\"params.max_depth = '{max_depth}' AND metrics.testing_mse <= 40\",\n",
    "    order_by=['metrics.testing_mse asc']\n",
    ")"
   ]
  },
  {
   "cell_type": "code",
   "execution_count": 37,
   "id": "a6fcca2e",
   "metadata": {},
   "outputs": [
    {
     "data": {
      "text/plain": [
       "run_id                                            ebbd4accf565429d8b0671b51155c50a\n",
       "experiment_id                                                                    1\n",
       "status                                                                    FINISHED\n",
       "artifact_uri                     file:///D:/Repositories/AI-project-methodology...\n",
       "start_time                                        2022-07-31 19:59:52.517000+00:00\n",
       "end_time                                          2022-07-31 20:00:11.907000+00:00\n",
       "metrics.testing_rmse                                                      0.505602\n",
       "metrics.testing_mse                                                       0.255633\n",
       "params.max_depth                                                                 4\n",
       "tags.mlflow.source.name          D:\\Repositories\\AI-project-methodology\\env\\lib...\n",
       "tags.mlflow.source.git.commit             212e29448b4448ffe71d9305b4a81e47cbbfe23a\n",
       "tags.mlflow.user                                                          RAVITEJA\n",
       "tags.mlflow.log-model.history    [{\"run_id\": \"ebbd4accf565429d8b0671b51155c50a\"...\n",
       "tags.mlflow.source.type                                                      LOCAL\n",
       "Name: 0, dtype: object"
      ]
     },
     "execution_count": 37,
     "metadata": {},
     "output_type": "execute_result"
    }
   ],
   "source": [
    "run = mlflow.search_runs(\n",
    "    experiment_id,\n",
    "    filter_string=f\"params.max_depth = '{max_depth}' AND metrics.testing_mse <= 30\",\n",
    "    order_by=[\"metrics.testing_mse asc\"]\n",
    ").iloc[0]\n",
    "run"
   ]
  },
  {
   "cell_type": "code",
   "execution_count": 38,
   "id": "4c447a58",
   "metadata": {},
   "outputs": [
    {
     "data": {
      "text/plain": [
       "'file:///D:/Repositories/AI-project-methodology/MLFLOW/mlruns/1/ebbd4accf565429d8b0671b51155c50a/artifacts'"
      ]
     },
     "execution_count": 38,
     "metadata": {},
     "output_type": "execute_result"
    }
   ],
   "source": [
    "run.artifact_uri"
   ]
  },
  {
   "cell_type": "code",
   "execution_count": 39,
   "id": "e459d4f7",
   "metadata": {},
   "outputs": [
    {
     "data": {
      "text/html": [
       "<style>#sk-container-id-1 {color: black;background-color: white;}#sk-container-id-1 pre{padding: 0;}#sk-container-id-1 div.sk-toggleable {background-color: white;}#sk-container-id-1 label.sk-toggleable__label {cursor: pointer;display: block;width: 100%;margin-bottom: 0;padding: 0.3em;box-sizing: border-box;text-align: center;}#sk-container-id-1 label.sk-toggleable__label-arrow:before {content: \"▸\";float: left;margin-right: 0.25em;color: #696969;}#sk-container-id-1 label.sk-toggleable__label-arrow:hover:before {color: black;}#sk-container-id-1 div.sk-estimator:hover label.sk-toggleable__label-arrow:before {color: black;}#sk-container-id-1 div.sk-toggleable__content {max-height: 0;max-width: 0;overflow: hidden;text-align: left;background-color: #f0f8ff;}#sk-container-id-1 div.sk-toggleable__content pre {margin: 0.2em;color: black;border-radius: 0.25em;background-color: #f0f8ff;}#sk-container-id-1 input.sk-toggleable__control:checked~div.sk-toggleable__content {max-height: 200px;max-width: 100%;overflow: auto;}#sk-container-id-1 input.sk-toggleable__control:checked~label.sk-toggleable__label-arrow:before {content: \"▾\";}#sk-container-id-1 div.sk-estimator input.sk-toggleable__control:checked~label.sk-toggleable__label {background-color: #d4ebff;}#sk-container-id-1 div.sk-label input.sk-toggleable__control:checked~label.sk-toggleable__label {background-color: #d4ebff;}#sk-container-id-1 input.sk-hidden--visually {border: 0;clip: rect(1px 1px 1px 1px);clip: rect(1px, 1px, 1px, 1px);height: 1px;margin: -1px;overflow: hidden;padding: 0;position: absolute;width: 1px;}#sk-container-id-1 div.sk-estimator {font-family: monospace;background-color: #f0f8ff;border: 1px dotted black;border-radius: 0.25em;box-sizing: border-box;margin-bottom: 0.5em;}#sk-container-id-1 div.sk-estimator:hover {background-color: #d4ebff;}#sk-container-id-1 div.sk-parallel-item::after {content: \"\";width: 100%;border-bottom: 1px solid gray;flex-grow: 1;}#sk-container-id-1 div.sk-label:hover label.sk-toggleable__label {background-color: #d4ebff;}#sk-container-id-1 div.sk-serial::before {content: \"\";position: absolute;border-left: 1px solid gray;box-sizing: border-box;top: 0;bottom: 0;left: 50%;z-index: 0;}#sk-container-id-1 div.sk-serial {display: flex;flex-direction: column;align-items: center;background-color: white;padding-right: 0.2em;padding-left: 0.2em;position: relative;}#sk-container-id-1 div.sk-item {position: relative;z-index: 1;}#sk-container-id-1 div.sk-parallel {display: flex;align-items: stretch;justify-content: center;background-color: white;position: relative;}#sk-container-id-1 div.sk-item::before, #sk-container-id-1 div.sk-parallel-item::before {content: \"\";position: absolute;border-left: 1px solid gray;box-sizing: border-box;top: 0;bottom: 0;left: 50%;z-index: -1;}#sk-container-id-1 div.sk-parallel-item {display: flex;flex-direction: column;z-index: 1;position: relative;background-color: white;}#sk-container-id-1 div.sk-parallel-item:first-child::after {align-self: flex-end;width: 50%;}#sk-container-id-1 div.sk-parallel-item:last-child::after {align-self: flex-start;width: 50%;}#sk-container-id-1 div.sk-parallel-item:only-child::after {width: 0;}#sk-container-id-1 div.sk-dashed-wrapped {border: 1px dashed gray;margin: 0 0.4em 0.5em 0.4em;box-sizing: border-box;padding-bottom: 0.4em;background-color: white;}#sk-container-id-1 div.sk-label label {font-family: monospace;font-weight: bold;display: inline-block;line-height: 1.2em;}#sk-container-id-1 div.sk-label-container {text-align: center;}#sk-container-id-1 div.sk-container {/* jupyter's `normalize.less` sets `[hidden] { display: none; }` but bootstrap.min.css set `[hidden] { display: none !important; }` so we also need the `!important` here to be able to override the default hidden behavior on the sphinx rendered scikit-learn.org. See: https://github.com/scikit-learn/scikit-learn/issues/21755 */display: inline-block !important;position: relative;}#sk-container-id-1 div.sk-text-repr-fallback {display: none;}</style><div id=\"sk-container-id-1\" class=\"sk-top-container\"><div class=\"sk-text-repr-fallback\"><pre>RandomForestClassifier(max_depth=4, n_estimators=10000, n_jobs=-1,\n",
       "                       random_state=0)</pre><b>In a Jupyter environment, please rerun this cell to show the HTML representation or trust the notebook. <br />On GitHub, the HTML representation is unable to render, please try loading this page with nbviewer.org.</b></div><div class=\"sk-container\" hidden><div class=\"sk-item\"><div class=\"sk-estimator sk-toggleable\"><input class=\"sk-toggleable__control sk-hidden--visually\" id=\"sk-estimator-id-1\" type=\"checkbox\" checked><label for=\"sk-estimator-id-1\" class=\"sk-toggleable__label sk-toggleable__label-arrow\">RandomForestClassifier</label><div class=\"sk-toggleable__content\"><pre>RandomForestClassifier(max_depth=4, n_estimators=10000, n_jobs=-1,\n",
       "                       random_state=0)</pre></div></div></div></div></div>"
      ],
      "text/plain": [
       "RandomForestClassifier(max_depth=4, n_estimators=10000, n_jobs=-1,\n",
       "                       random_state=0)"
      ]
     },
     "execution_count": 39,
     "metadata": {},
     "output_type": "execute_result"
    }
   ],
   "source": [
    "model = mlflow.sklearn.load_model(model_uri=f\"{run.artifact_uri}/model\")\n",
    "model"
   ]
  },
  {
   "cell_type": "code",
   "execution_count": 40,
   "id": "f6f161fc",
   "metadata": {},
   "outputs": [],
   "source": [
    "target = df_master['y']\n",
    "train = df_master.drop(['y'], axis=1)\n",
    "processedtrain= preprocess(train, MODEL_DIR)"
   ]
  },
  {
   "cell_type": "code",
   "execution_count": 41,
   "id": "1fbed37f",
   "metadata": {},
   "outputs": [
    {
     "data": {
      "text/plain": [
       "array([0, 0, 0, ..., 0, 0, 0], dtype=int64)"
      ]
     },
     "execution_count": 41,
     "metadata": {},
     "output_type": "execute_result"
    }
   ],
   "source": [
    "model.predict(processedtrain)"
   ]
  }
 ],
 "metadata": {
  "kernelspec": {
   "display_name": "Python 3 (ipykernel)",
   "language": "python",
   "name": "python3"
  },
  "language_info": {
   "codemirror_mode": {
    "name": "ipython",
    "version": 3
   },
   "file_extension": ".py",
   "mimetype": "text/x-python",
   "name": "python",
   "nbconvert_exporter": "python",
   "pygments_lexer": "ipython3",
   "version": "3.10.4"
  }
 },
 "nbformat": 4,
 "nbformat_minor": 5
}
